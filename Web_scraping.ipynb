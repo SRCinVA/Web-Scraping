{
 "cells": [
  {
   "cell_type": "code",
   "execution_count": 27,
   "id": "a3488306",
   "metadata": {},
   "outputs": [
    {
     "ename": "ImportError",
     "evalue": "cannot import name 'BeatifulSoup' from 'bs4' (/Library/Frameworks/Python.framework/Versions/3.7/lib/python3.7/site-packages/bs4/__init__.py)",
     "output_type": "error",
     "traceback": [
      "\u001b[0;31m---------------------------------------------------------------------------\u001b[0m",
      "\u001b[0;31mImportError\u001b[0m                               Traceback (most recent call last)",
      "\u001b[0;32m<ipython-input-27-48fb2d549de9>\u001b[0m in \u001b[0;36m<module>\u001b[0;34m\u001b[0m\n\u001b[1;32m      1\u001b[0m \u001b[0;32mimport\u001b[0m \u001b[0mrequests\u001b[0m\u001b[0;34m\u001b[0m\u001b[0;34m\u001b[0m\u001b[0m\n\u001b[0;32m----> 2\u001b[0;31m \u001b[0;32mfrom\u001b[0m \u001b[0mbs4\u001b[0m \u001b[0;32mimport\u001b[0m \u001b[0mBeatifulSoup\u001b[0m\u001b[0;34m\u001b[0m\u001b[0;34m\u001b[0m\u001b[0m\n\u001b[0m",
      "\u001b[0;31mImportError\u001b[0m: cannot import name 'BeatifulSoup' from 'bs4' (/Library/Frameworks/Python.framework/Versions/3.7/lib/python3.7/site-packages/bs4/__init__.py)"
     ]
    }
   ],
   "source": [
    "import requests\n",
    "from bs4 import BeatifulSoup"
   ]
  },
  {
   "cell_type": "code",
   "execution_count": 28,
   "id": "64b9ba7d",
   "metadata": {},
   "outputs": [],
   "source": [
    "from bs4 import BeautifulSoup"
   ]
  },
  {
   "cell_type": "code",
   "execution_count": 29,
   "id": "cd596a49",
   "metadata": {},
   "outputs": [],
   "source": [
    "r = requests.get(\"https://pythonizing.github.io/data/example.html\")\n",
    "c=r.content"
   ]
  },
  {
   "cell_type": "markdown",
   "id": "017cabdc",
   "metadata": {},
   "source": [
    "This will load the entire page as a variable"
   ]
  },
  {
   "cell_type": "code",
   "execution_count": 30,
   "id": "35cd96c8",
   "metadata": {},
   "outputs": [
    {
     "data": {
      "text/plain": [
       "b'\\n<!DOCTYPE html>\\n<html>\\n<head>\\n<style>\\ndiv.cities {\\n    background-color:black;\\n    color:white;\\n    margin:20px;\\n    padding:20px;\\n} \\n</style>\\n</head>\\n<body>\\n\\n<h1 align=\"center\"> Here are three big cities </h1>\\n\\n<div class=\"cities\">\\n<h2>London</h2>\\n<p>London is the capital of England and it\\'s been a British settlement since 2000 years ago. </p>\\n</div>\\n\\n<div class=\"cities\">\\n<h2>Paris</h2>\\n<p>Paris is the capital city of France. It was declared capital since 508.</p>\\n</div>\\n\\n<div class=\"cities\">\\n<h2>Tokyo</h2>\\n<p>Tokyo is the capital of Japan and one of the most populated cities in the world.</p>\\n</div>\\n\\n</body>\\n</html>\\n'"
      ]
     },
     "execution_count": 30,
     "metadata": {},
     "output_type": "execute_result"
    }
   ],
   "source": [
    "c"
   ]
  },
  {
   "cell_type": "markdown",
   "id": "c5e59ec0",
   "metadata": {},
   "source": [
    "The above is the entire source code for the target web page."
   ]
  },
  {
   "cell_type": "code",
   "execution_count": 31,
   "id": "e2db3f2f",
   "metadata": {},
   "outputs": [],
   "source": [
    "soup=BeautifulSoup(c,\"html.parser\")"
   ]
  },
  {
   "cell_type": "markdown",
   "id": "f95f4e19",
   "metadata": {},
   "source": [
    "For best practice, pass html parser as a parameter for Beautiful Soup to do its thing"
   ]
  },
  {
   "cell_type": "code",
   "execution_count": 32,
   "id": "724620f8",
   "metadata": {},
   "outputs": [
    {
     "name": "stdout",
     "output_type": "stream",
     "text": [
      "<!DOCTYPE html>\n",
      "<html>\n",
      " <head>\n",
      "  <style>\n",
      "   div.cities {\n",
      "    background-color:black;\n",
      "    color:white;\n",
      "    margin:20px;\n",
      "    padding:20px;\n",
      "}\n",
      "  </style>\n",
      " </head>\n",
      " <body>\n",
      "  <h1 align=\"center\">\n",
      "   Here are three big cities\n",
      "  </h1>\n",
      "  <div class=\"cities\">\n",
      "   <h2>\n",
      "    London\n",
      "   </h2>\n",
      "   <p>\n",
      "    London is the capital of England and it's been a British settlement since 2000 years ago.\n",
      "   </p>\n",
      "  </div>\n",
      "  <div class=\"cities\">\n",
      "   <h2>\n",
      "    Paris\n",
      "   </h2>\n",
      "   <p>\n",
      "    Paris is the capital city of France. It was declared capital since 508.\n",
      "   </p>\n",
      "  </div>\n",
      "  <div class=\"cities\">\n",
      "   <h2>\n",
      "    Tokyo\n",
      "   </h2>\n",
      "   <p>\n",
      "    Tokyo is the capital of Japan and one of the most populated cities in the world.\n",
      "   </p>\n",
      "  </div>\n",
      " </body>\n",
      "</html>\n",
      "\n"
     ]
    }
   ],
   "source": [
    "print(soup.prettify())"
   ]
  },
  {
   "cell_type": "markdown",
   "id": "6ea813fd",
   "metadata": {},
   "source": [
    "\"prettify\" makes sense here"
   ]
  },
  {
   "cell_type": "code",
   "execution_count": 33,
   "id": "2616a7d0",
   "metadata": {},
   "outputs": [],
   "source": [
    "all=soup.find_all(\"div\", {\"class\":\"cities\"})"
   ]
  },
  {
   "cell_type": "markdown",
   "id": "f1c2a137",
   "metadata": {},
   "source": [
    "Above, we can specify which family of tags we want to investigate"
   ]
  },
  {
   "cell_type": "markdown",
   "id": "2c90b9c5",
   "metadata": {},
   "source": [
    "Remember that \"soup\" is all the source code of the page"
   ]
  },
  {
   "cell_type": "code",
   "execution_count": 34,
   "id": "9ca28ca7",
   "metadata": {},
   "outputs": [
    {
     "data": {
      "text/plain": [
       "[<div class=\"cities\">\n",
       " <h2>London</h2>\n",
       " <p>London is the capital of England and it's been a British settlement since 2000 years ago. </p>\n",
       " </div>,\n",
       " <div class=\"cities\">\n",
       " <h2>Paris</h2>\n",
       " <p>Paris is the capital city of France. It was declared capital since 508.</p>\n",
       " </div>,\n",
       " <div class=\"cities\">\n",
       " <h2>Tokyo</h2>\n",
       " <p>Tokyo is the capital of Japan and one of the most populated cities in the world.</p>\n",
       " </div>]"
      ]
     },
     "execution_count": 34,
     "metadata": {},
     "output_type": "execute_result"
    }
   ],
   "source": [
    "all"
   ]
  },
  {
   "cell_type": "markdown",
   "id": "39bdcae6",
   "metadata": {},
   "source": [
    "The result is a list of three elements"
   ]
  },
  {
   "cell_type": "markdown",
   "id": "4a7644f2",
   "metadata": {},
   "source": [
    "Below, we can extract just the first element wiht list indexing"
   ]
  },
  {
   "cell_type": "code",
   "execution_count": 35,
   "id": "8fec2d87",
   "metadata": {},
   "outputs": [],
   "source": [
    "all=soup.find_all(\"div\", {\"class\":\"cities\"})[0]"
   ]
  },
  {
   "cell_type": "code",
   "execution_count": 36,
   "id": "2bd6ed42",
   "metadata": {},
   "outputs": [
    {
     "data": {
      "text/plain": [
       "<div class=\"cities\">\n",
       "<h2>London</h2>\n",
       "<p>London is the capital of England and it's been a British settlement since 2000 years ago. </p>\n",
       "</div>"
      ]
     },
     "execution_count": 36,
     "metadata": {},
     "output_type": "execute_result"
    }
   ],
   "source": [
    "all"
   ]
  },
  {
   "cell_type": "markdown",
   "id": "6aec4398",
   "metadata": {},
   "source": [
    "another approach to find the first element"
   ]
  },
  {
   "cell_type": "code",
   "execution_count": 37,
   "id": "ef636686",
   "metadata": {},
   "outputs": [],
   "source": [
    "all=soup.find_all(\"div\", {\"class\":\"cities\"})"
   ]
  },
  {
   "cell_type": "code",
   "execution_count": 38,
   "id": "af7c774b",
   "metadata": {},
   "outputs": [
    {
     "data": {
      "text/plain": [
       "<div class=\"cities\">\n",
       "<h2>London</h2>\n",
       "<p>London is the capital of England and it's been a British settlement since 2000 years ago. </p>\n",
       "</div>"
      ]
     },
     "execution_count": 38,
     "metadata": {},
     "output_type": "execute_result"
    }
   ],
   "source": [
    "all[0]"
   ]
  },
  {
   "cell_type": "markdown",
   "id": "cca1c313",
   "metadata": {},
   "source": [
    "Below, this says \"find the h2 elements with the first item (the first 'div')\""
   ]
  },
  {
   "cell_type": "code",
   "execution_count": 43,
   "id": "443fe51c",
   "metadata": {},
   "outputs": [
    {
     "data": {
      "text/plain": [
       "[<h2>London</h2>]"
      ]
     },
     "execution_count": 43,
     "metadata": {},
     "output_type": "execute_result"
    }
   ],
   "source": [
    "all[0].find_all(\"h2\")"
   ]
  },
  {
   "cell_type": "markdown",
   "id": "a144d311",
   "metadata": {},
   "source": [
    "To pull out just 'London,' treat it like a list and pull out the [0] element"
   ]
  },
  {
   "cell_type": "code",
   "execution_count": 45,
   "id": "e4cc16d1",
   "metadata": {},
   "outputs": [
    {
     "data": {
      "text/plain": [
       "'London'"
      ]
     },
     "execution_count": 45,
     "metadata": {},
     "output_type": "execute_result"
    }
   ],
   "source": [
    "all[0].find_all(\"h2\")[0].text"
   ]
  },
  {
   "cell_type": "markdown",
   "id": "b0427b7a",
   "metadata": {},
   "source": [
    "To do the same for all the cities in the page, pull out the text of all the \"things\" using find_all discovered in all:"
   ]
  },
  {
   "cell_type": "code",
   "execution_count": 53,
   "id": "e5c41abb",
   "metadata": {},
   "outputs": [
    {
     "name": "stdout",
     "output_type": "stream",
     "text": [
      "London\n",
      "Paris\n",
      "Tokyo\n"
     ]
    }
   ],
   "source": [
    "for thing in all:\n",
    "    print(thing.find_all(\"h2\")[0].text)"
   ]
  },
  {
   "cell_type": "code",
   "execution_count": null,
   "id": "dee9baca",
   "metadata": {},
   "outputs": [],
   "source": []
  }
 ],
 "metadata": {
  "kernelspec": {
   "display_name": "Python 3",
   "language": "python",
   "name": "python3"
  },
  "language_info": {
   "codemirror_mode": {
    "name": "ipython",
    "version": 3
   },
   "file_extension": ".py",
   "mimetype": "text/x-python",
   "name": "python",
   "nbconvert_exporter": "python",
   "pygments_lexer": "ipython3",
   "version": "3.7.9"
  }
 },
 "nbformat": 4,
 "nbformat_minor": 5
}
