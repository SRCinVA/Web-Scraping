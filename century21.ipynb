{
 "cells": [
  {
   "cell_type": "code",
   "execution_count": 1,
   "id": "5c3f87a1",
   "metadata": {},
   "outputs": [],
   "source": [
    "import requests\n",
    "from bs4 import BeautifulSoup"
   ]
  },
  {
   "cell_type": "code",
   "execution_count": 3,
   "id": "a3527045",
   "metadata": {},
   "outputs": [],
   "source": [
    "r = requests.get(\"https://pythonizing.github.io/data/real-estate/rock-springs-wy/LCWYROCKSPRINGS/\")\n",
    "c = r.content"
   ]
  },
  {
   "cell_type": "code",
   "execution_count": 5,
   "id": "e3b7a522",
   "metadata": {},
   "outputs": [],
   "source": [
    "soup=BeautifulSoup(c,\"html.parser\")"
   ]
  },
  {
   "cell_type": "code",
   "execution_count": 6,
   "id": "44a99e56",
   "metadata": {},
   "outputs": [],
   "source": [
    "all=soup.find_all(\"div\",{\"class\":\"propertyRow\"})"
   ]
  },
  {
   "cell_type": "markdown",
   "id": "c98fb42a",
   "metadata": {},
   "source": [
    "It has a length property, which can tell us how many of these items exist."
   ]
  },
  {
   "cell_type": "code",
   "execution_count": 10,
   "id": "c47aa1e6",
   "metadata": {},
   "outputs": [
    {
     "data": {
      "text/plain": [
       "10"
      ]
     },
     "execution_count": 10,
     "metadata": {},
     "output_type": "execute_result"
    }
   ],
   "source": [
    "len(all)"
   ]
  },
  {
   "cell_type": "markdown",
   "id": "cdde0ba6",
   "metadata": {},
   "source": [
    "You can search elements in the list by index."
   ]
  },
  {
   "cell_type": "code",
   "execution_count": 11,
   "id": "79ed0ae7",
   "metadata": {},
   "outputs": [
    {
     "data": {
      "text/plain": [
       "<div class=\"propertyRow\" id=\"propertyRowREN021201395\" onclick=\"Track.doEvent('Hybrid Mapping', 'Property Center Lane', 'Select a property with brand REN to view details'); document.location.href='/property/0-gateway-rock-springs-wy-82901-REN021201395';\">\n",
       "<div class=\"CenterLaneCardBg CardWrapper propertyCard\" id=\"propertyREN021201395\">\n",
       "<div class=\"CenterLaneCard propertyCard\">\n",
       "<div class=\"CardThumb\">\n",
       "<div class=\"landscapeThumbContainer\">\n",
       "<a href=\"http://web.archive.org/web/20160127020422/http://www.century21.com/property/0-gateway-rock-springs-wy-82901-REN021201395\"><img class=\"lazyLoad\" rel=\"http://www.century21.com/listhub/thumb/130x90/photos.listhub.net/FCBRWY/20156419/1?lm=20151103T230938\" src=\"./LCWYROCKSPRINGS1_files/1\"/></a>\n",
       "</div>\n",
       "</div>\n",
       "<h4 class=\"propPrice\">\n",
       "\n",
       "\n",
       "            $725,000\n",
       "\n",
       "\n",
       "\n",
       "      <span class=\"IconPropertyFavorite16\"></span>\n",
       "</h4>\n",
       "<div class=\"CardDetails\">\n",
       "<div class=\"primaryDetails\">\n",
       "<span class=\"propAddressCollapse\" title=\"0 Gateway\">0 Gateway</span>\n",
       "<span class=\"propAddressCollapse\">Rock Springs, WY 82901</span>\n",
       "<input name=\"shortCurrency\" type=\"hidden\" value=\"$725K\"/>\n",
       "<input name=\"proplongitude\" type=\"hidden\" value=\"-109.248\"/>\n",
       "<input name=\"proplatitude\" type=\"hidden\" value=\"41.5842\"/>\n",
       "</div>\n",
       "<div class=\"secondaryDetails\">\n",
       "<div class=\"infoLine1\">\n",
       "</div>\n",
       "<div class=\"infoLine2\">\n",
       "</div>\n",
       "</div>\n",
       "<div class=\"secondaryHeader\">\n",
       "         Courtesy Of All Broker Realty\n",
       "\n",
       "      </div>\n",
       "</div>\n",
       "</div>\n",
       "<div class=\"CardActions\">\n",
       "<a class=\"CardPhotoCount\" href=\"http://web.archive.org/web/20160127020422/http://www.century21.com/property/0-gateway-rock-springs-wy-82901-REN021201395\">\n",
       "<span class=\"IconPropertyPhotos16\"></span>\n",
       "\n",
       "      1\n",
       "      Image\n",
       "   </a>\n",
       "<a class=\"propertyAction\" href=\"javascript:void(0);\" onclick=\"Track.doEvent('Hybrid Mapping', 'Property Center Lane', 'Hide a property'); myc21.hideProperty('REN021201395', '#propertyRowREN021201395');c21Helpers.stopEvent(event);\" title=\"Hide\">\n",
       "<span class=\"IconActionHide16\"></span><b>Hide</b>\n",
       "</a>\n",
       "<a class=\"propertyAction\" href=\"javascript:void(0);\" onclick=\"Track.doEvent('Hybrid Mapping', 'Property Center Lane', 'Select Contact regarding property'); modalWindows.openPropertyContact('REN021201395', 'MainSearchProperty', '', 'PRP');c21Helpers.stopEvent(event);\" title=\"Contact\">\n",
       "<span class=\"IconActionContact16\"></span><b>Contact</b>\n",
       "</a>\n",
       "<a class=\"propertyAction removeFavorite\" href=\"javascript:void(0);\" onclick=\"Track.doEvent('Hybrid Mapping', 'Property Center Lane', 'Remove a favorite property'); myc21.unfavoriteProperty('REN021201395', '#propertyREN021201395');c21Helpers.stopEvent(event);\" title=\"Remove Favorite\">\n",
       "<span class=\"IconActionRemoveFavorite16\"></span>Remove Favorite\n",
       "         </a>\n",
       "<a class=\"propertyAction addFavorite\" href=\"javascript:void(0);\" onclick=\"Track.doEvent('Hybrid Mapping', 'Property Center Lane', 'Add a favorite property'); myc21.favoriteProperty('REN021201395', '#propertyREN021201395', '3yd-FCBRWY-20156419');c21Helpers.stopEvent(event);\" title=\"Add to Favorites\">\n",
       "<span class=\"IconActionAddFavorite16\"></span><b>Add as Favorite</b>\n",
       "</a>\n",
       "</div>\n",
       "<div class=\"hiddenListItem\">\n",
       "<a href=\"javascript:void(0);\" onclick=\"Track.doEvent('Hybrid Mapping', 'Property Center Lane', 'Un-Hide a property');myc21.unhideProperty('REN021201395', '#propertyRowREN021201395');c21Helpers.stopEvent(event);\" title=\"0 Gateway, Rock Springs, WY 82901 | $725,000\">\n",
       "<span class=\"IconActionUnhide16\"></span>\n",
       "</a>\n",
       "<a class=\"propAddressHide\" href=\"javascript:void(0);\" onclick=\"Track.doEvent('Hybrid Mapping', 'Property Center Lane', 'Un-Hide a property');myc21.unhideProperty('REN021201395', '#propertyRowREN021201395');c21Helpers.stopEvent(event);\" title=\"0 Gateway, Rock Springs, WY 82901 | $725,000\">\n",
       "      Unhide Property: 0 Gateway, Rock Springs, WY 82901 | $725,000\n",
       "   </a>\n",
       "</div>\n",
       "<div class=\"clear\"></div>\n",
       "</div>\n",
       "<div class=\"propertyDetails\">\n",
       "<div class=\"invisibleFloat\"></div>\n",
       "<div class=\"propertyDetailPhotos\" id=\"propertyRowREN021201395propertyDetailPhotos\">\n",
       "<div class=\"photoFlow last\">\n",
       "<div class=\"landscapeThumbContainer\">\n",
       "<a href=\"http://web.archive.org/web/20160127020422/http://www.century21.com/property/0-gateway-rock-springs-wy-82901-REN021201395?g=0\" title=\"\"><img rel=\"http://www.century21.com/listhub/thumb/130x90/photos.listhub.net/FCBRWY/20156419/1?lm=20151103T230938\" src=\"./LCWYROCKSPRINGS1_files/loadingimage39x30.png\"/></a>\n",
       "</div>\n",
       "</div>\n",
       "<div class=\"propertyMLS\">MLS#\n",
       "\n",
       "                        20156419\n",
       "\n",
       "                  </div>\n",
       "</div>\n",
       "<div class=\"propertyDescription\" id=\"propertyRowREN021201395propertyDescription\">\n",
       "<span class=\"propDescHeader\">PROPERTY DESCRIPTION: </span>\n",
       "<div class=\"propertyDescCollapse collapsed\" expandlink=\"/property/0-gateway-rock-springs-wy-82901-REN021201395\" id=\"propertyRowREN021201395propertyDescCollapse\" style=\"display: block;\"> This Location could be used for almost anything, close to Hospital, Residential, Great possibilities </div>\n",
       "</div>\n",
       "<div class=\"propertyFeatures\" id=\"propertyRowREN021201395propertyFeatures\">\n",
       "<div class=\"ui-column\" style=\"float: left; width: 200px; height: 110px;\"><div class=\"columnGroup propFeatureHeader\">FEATURES:</div><div class=\"columnGroup\">\n",
       "<span class=\"featureGroup\">Architecture Style: </span><span class=\"featureName\">Other</span>\n",
       "</div><div class=\"columnGroup\">\n",
       "<span class=\"featureGroup\">Roof Type: </span><span class=\"featureName\">Unknown</span>\n",
       "</div></div></div>\n",
       "</div>\n",
       "</div>"
      ]
     },
     "execution_count": 11,
     "metadata": {},
     "output_type": "execute_result"
    }
   ],
   "source": [
    "all[0]"
   ]
  },
  {
   "cell_type": "markdown",
   "id": "0d3c9bc8",
   "metadata": {},
   "source": [
    "You can also search within each element. It;s best practice to highlight the class, not just the tag (h4)."
   ]
  },
  {
   "cell_type": "code",
   "execution_count": 13,
   "id": "6f412179",
   "metadata": {},
   "outputs": [
    {
     "data": {
      "text/plain": [
       "[<h4 class=\"propPrice\">\n",
       " \n",
       " \n",
       "             $725,000\n",
       " \n",
       " \n",
       " \n",
       "       <span class=\"IconPropertyFavorite16\"></span>\n",
       " </h4>]"
      ]
     },
     "execution_count": 13,
     "metadata": {},
     "output_type": "execute_result"
    }
   ],
   "source": [
    "all[0].find_all(\"h4\",{\"class\":\"propPrice\"})"
   ]
  },
  {
   "cell_type": "code",
   "execution_count": null,
   "id": "57b82649",
   "metadata": {},
   "outputs": [],
   "source": []
  }
 ],
 "metadata": {
  "kernelspec": {
   "display_name": "Python 3",
   "language": "python",
   "name": "python3"
  },
  "language_info": {
   "codemirror_mode": {
    "name": "ipython",
    "version": 3
   },
   "file_extension": ".py",
   "mimetype": "text/x-python",
   "name": "python",
   "nbconvert_exporter": "python",
   "pygments_lexer": "ipython3",
   "version": "3.7.9"
  }
 },
 "nbformat": 4,
 "nbformat_minor": 5
}
