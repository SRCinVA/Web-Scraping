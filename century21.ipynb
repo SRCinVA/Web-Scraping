{
 "cells": [
  {
   "cell_type": "code",
   "execution_count": 1,
   "id": "824c1e35",
   "metadata": {},
   "outputs": [],
   "source": [
    "import requests\n",
    "from bs4 import BeautifulSoup\n",
    "\n",
    "r = requests.get(\"https://pythonizing.github.io/data/real-estate/rock-springs-wy/LCWYROCKSPRINGS/\")\n",
    "c = r.content\n",
    "\n",
    "soup=BeautifulSoup(c,\"html.parser\")\n",
    "\n",
    "all=soup.find_all(\"div\",{\"class\":\"propertyRow\"})\n",
    "\n",
    "It has a length property, which can tell us how many of these items exist.\n",
    "\n",
    "len(all)\n",
    "\n",
    "You can search elements in the list by index.\n",
    "\n",
    "all[0]\n",
    "\n",
    "You can also search within each element. It's best practice to highlight the class, not just the tag (h4). You could also use find_all() here as well.\n",
    "\n",
    "all[0].find(\"h4\",{\"class\":\"propPrice\"})\n",
    "\n",
    "The above contents are all strings, which enables us to put string methods against them (see below).\n",
    "\n",
    "all[0].find(\"h4\",{\"class\":\"propPrice\"}).text\n",
    "\n",
    "It looks strange, but we can just replace() out the unnecessary characters.\n",
    "\n",
    "all[0].find(\"h4\",{\"class\":\"propPrice\"}).text.replace(\"\\n\",\"\")\n",
    "\n",
    "Now, pull out the white space (at the end of the statement).\n",
    "\n",
    "all[0].find(\"h4\",{\"class\":\"propPrice\"}).text.replace(\"\\n\",\"\").replace(\" \",\"\")"
   ]
  },
  {
   "cell_type": "markdown",
   "id": "4e6ddff0",
   "metadata": {},
   "source": [
    "A more efficient way would be better"
   ]
  },
  {
   "cell_type": "code",
   "execution_count": null,
   "id": "e3c407b8",
   "metadata": {},
   "outputs": [],
   "source": []
  }
 ],
 "metadata": {
  "kernelspec": {
   "display_name": "Python 3",
   "language": "python",
   "name": "python3"
  },
  "language_info": {
   "codemirror_mode": {
    "name": "ipython",
    "version": 3
   },
   "file_extension": ".py",
   "mimetype": "text/x-python",
   "name": "python",
   "nbconvert_exporter": "python",
   "pygments_lexer": "ipython3",
   "version": "3.7.9"
  }
 },
 "nbformat": 4,
 "nbformat_minor": 5
}
