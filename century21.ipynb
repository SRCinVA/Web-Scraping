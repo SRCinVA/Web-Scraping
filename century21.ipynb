{
 "cells": [
  {
   "cell_type": "code",
   "execution_count": 1,
   "id": "17353011",
   "metadata": {},
   "outputs": [],
   "source": [
    "import requests\n",
    "from bs4 import BeautifulSoup\n",
    "\n",
    "r = requests.get(\"https://pythonizing.github.io/data/real-estate/rock-springs-wy/LCWYROCKSPRINGS/\")\n",
    "c = r.content\n",
    "\n",
    "soup=BeautifulSoup(c,\"html.parser\")\n",
    "\n",
    "all=soup.find_all(\"div\",{\"class\":\"propertyRow\"})\n",
    "\n",
    "It has a length property, which can tell us how many of these items exist.\n",
    "\n",
    "len(all)\n",
    "\n",
    "You can search elements in the list by index.\n",
    "\n",
    "all[0]\n",
    "\n",
    "You can also search within each element. It's best practice to highlight the class, not just the tag (h4). You could also use find_all() here as well.\n",
    "\n",
    "all[0].find(\"h4\",{\"class\":\"propPrice\"})\n",
    "\n",
    "The above contents are all strings, which enables us to put string methods against them (see below).\n",
    "\n",
    "all[0].find(\"h4\",{\"class\":\"propPrice\"}).text\n",
    "\n",
    "It looks strange, but we can just replace() out the unnecessary characters.\n",
    "\n",
    "all[0].find(\"h4\",{\"class\":\"propPrice\"}).text.replace(\"\\n\",\"\")\n",
    "\n",
    "Now, pull out the white space (at the end of the statement).\n",
    "\n",
    "all[0].find(\"h4\",{\"class\":\"propPrice\"}).text.replace(\"\\n\",\"\").replace(\" \",\"\")"
   ]
  },
  {
   "cell_type": "markdown",
   "id": "9c7d16ca",
   "metadata": {},
   "source": [
    "A more efficient way would be better"
   ]
  },
  {
   "cell_type": "markdown",
   "id": "f24a0b48",
   "metadata": {},
   "source": [
    "Now we need to loop through each item in the webpage. Note the try and except statements; they will help you deal with the \"None\" object, which throws an exception when you employ the text method.  "
   ]
  },
  {
   "cell_type": "code",
   "execution_count": 45,
   "id": "f2beeebf",
   "metadata": {},
   "outputs": [
    {
     "name": "stdout",
     "output_type": "stream",
     "text": [
      "$725,000\n",
      "0 Gateway\n",
      "Rock Springs, WY 82901\n",
      " \n",
      "$452,900\n",
      "1003 Winchester Blvd.\n",
      "Rock Springs, WY 82901\n",
      "4 Beds\n",
      " \n",
      "$396,900\n",
      "600 Talladega\n",
      "Rock Springs, WY 82901\n",
      "5 Beds\n",
      " \n",
      "$389,900\n",
      "3239 Spearhead Way\n",
      "Rock Springs, WY 82901\n",
      "4 Beds\n",
      " \n",
      "$254,000\n",
      "522 Emerald Street\n",
      "Rock Springs, WY 82901\n",
      "3 Beds\n",
      " \n",
      "$252,900\n",
      "1302 Veteran's Drive\n",
      "Rock Springs, WY 82901\n",
      "4 Beds\n",
      " \n",
      "$210,000\n",
      "1021 Cypress Cir\n",
      "Rock Springs, WY 82901\n",
      "4 Beds\n",
      " \n",
      "$209,000\n",
      "913 Madison Dr\n",
      "Rock Springs, WY 82901\n",
      "3 Beds\n",
      " \n",
      "$199,900\n",
      "1344 Teton Street\n",
      "Rock Springs, WY 82901\n",
      "3 Beds\n",
      " \n",
      "$196,900\n",
      "4 Minnies Lane\n",
      "Rock Springs, WY 82901\n",
      "3 Beds\n",
      " \n"
     ]
    }
   ],
   "source": [
    "for item in all:\n",
    "    print(item.find(\"h4\",{\"class\",\"propPrice\"}).text.replace(\"\\n\",\"\").replace(\" \",\"\"))\n",
    "    print(item.find_all(\"span\",{\"class\",\"propAddressCollapse\"})[0].text)\n",
    "    print(item.find_all(\"span\",{\"class\",\"propAddressCollapse\"})[1].text)\n",
    "    try:\n",
    "        print(item.find(\"span\",{\"class\",\"infoBed\"}).text)\n",
    "    except:\n",
    "        pass\n",
    "    print(\" \")"
   ]
  },
  {
   "cell_type": "markdown",
   "id": "be7f8ad6",
   "metadata": {},
   "source": [
    "To find just the \"b\" tag info for # of beds, you need to find \"b\" but note that it doesn't have a class tag."
   ]
  },
  {
   "cell_type": "code",
   "execution_count": 46,
   "id": "531b02bd",
   "metadata": {},
   "outputs": [
    {
     "name": "stdout",
     "output_type": "stream",
     "text": [
      "$725,000\n",
      "0 Gateway\n",
      "Rock Springs, WY 82901\n",
      " \n",
      "$452,900\n",
      "1003 Winchester Blvd.\n",
      "Rock Springs, WY 82901\n",
      "4\n",
      " \n",
      "$396,900\n",
      "600 Talladega\n",
      "Rock Springs, WY 82901\n",
      "5\n",
      " \n",
      "$389,900\n",
      "3239 Spearhead Way\n",
      "Rock Springs, WY 82901\n",
      "4\n",
      " \n",
      "$254,000\n",
      "522 Emerald Street\n",
      "Rock Springs, WY 82901\n",
      "3\n",
      " \n",
      "$252,900\n",
      "1302 Veteran's Drive\n",
      "Rock Springs, WY 82901\n",
      "4\n",
      " \n",
      "$210,000\n",
      "1021 Cypress Cir\n",
      "Rock Springs, WY 82901\n",
      "4\n",
      " \n",
      "$209,000\n",
      "913 Madison Dr\n",
      "Rock Springs, WY 82901\n",
      "3\n",
      " \n",
      "$199,900\n",
      "1344 Teton Street\n",
      "Rock Springs, WY 82901\n",
      "3\n",
      " \n",
      "$196,900\n",
      "4 Minnies Lane\n",
      "Rock Springs, WY 82901\n",
      "3\n",
      " \n"
     ]
    }
   ],
   "source": [
    "for item in all:\n",
    "    print(item.find(\"h4\",{\"class\",\"propPrice\"}).text.replace(\"\\n\",\"\").replace(\" \",\"\"))\n",
    "    print(item.find_all(\"span\",{\"class\",\"propAddressCollapse\"})[0].text)\n",
    "    print(item.find_all(\"span\",{\"class\",\"propAddressCollapse\"})[1].text)\n",
    "    try:\n",
    "        print(item.find(\"span\",{\"class\",\"infoBed\"}).find(\"b\").text)\n",
    "    except:\n",
    "        pass\n",
    "    print(\" \")"
   ]
  },
  {
   "cell_type": "code",
   "execution_count": null,
   "id": "65df479b",
   "metadata": {},
   "outputs": [],
   "source": []
  }
 ],
 "metadata": {
  "kernelspec": {
   "display_name": "Python 3",
   "language": "python",
   "name": "python3"
  },
  "language_info": {
   "codemirror_mode": {
    "name": "ipython",
    "version": 3
   },
   "file_extension": ".py",
   "mimetype": "text/x-python",
   "name": "python",
   "nbconvert_exporter": "python",
   "pygments_lexer": "ipython3",
   "version": "3.7.9"
  }
 },
 "nbformat": 4,
 "nbformat_minor": 5
}
